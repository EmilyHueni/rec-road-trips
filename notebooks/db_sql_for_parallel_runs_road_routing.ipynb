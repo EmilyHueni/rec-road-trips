{
 "cells": [
  {
   "cell_type": "code",
   "execution_count": 1,
   "id": "a0903625",
   "metadata": {},
   "outputs": [],
   "source": [
    "import pandas as pd\n",
    "import numpy\n",
    "from sqlalchemy import create_engine\n",
    "import psycopg2\n",
    "import matplotlib.pyplot as plt\n",
    "from itertools import cycle"
   ]
  },
  {
   "cell_type": "code",
   "execution_count": 2,
   "id": "b9e359bb",
   "metadata": {},
   "outputs": [],
   "source": [
    "\n",
    "dbname = 'xxxxx'\n",
    "user='xxxxx'\n",
    "host='xxxxxxxxx.rds.amazonaws.com'\n",
    "port='5432'\n",
    "password='xxxxxxxxx'\n"
   ]
  },
  {
   "cell_type": "code",
   "execution_count": 3,
   "id": "c19136af",
   "metadata": {},
   "outputs": [],
   "source": [
    "def runQuery(query):\n",
    "    connect_text = \"dbname='%s' user='%s' host=%s port=%s password='%s'\" % (dbname, user, host, port, password) \n",
    "    con = psycopg2.connect(connect_text) \n",
    "    cur = con.cursor() \n",
    "    cur.execute(query) \n",
    "    con.commit() \n",
    "    con.close()"
   ]
  },
  {
   "cell_type": "markdown",
   "id": "59b82b4b",
   "metadata": {},
   "source": [
    "## SQL to manually created table first"
   ]
  },
  {
   "cell_type": "code",
   "execution_count": 4,
   "id": "9e51dbfd",
   "metadata": {},
   "outputs": [],
   "source": [
    "sql = \"\"\"\n",
    "  create table us_road_network.trip_routes as\n",
    "SELECT  a.trip_id,\n",
    "        SUM(a.cost) AS agg_cost,\n",
    "        ST_Union(b.geom) AS geom       -- ST_Collect(b.geom)\n",
    "FROM    (\n",
    "    SELECT  trip_id, \n",
    "            (pgr_dijkstra(\n",
    "                'SELECT id::int, source::bigint, target::bigint, travel_cost::float as cost FROM us_road_network.roads_us',\n",
    "                origin,\n",
    "                destination,\n",
    "                false\n",
    "            )).*\n",
    "    FROM    (SELECT * FROM (SELECT row_number() over(), * FROM us_road_network.routes_start_stop_points order by trip_id) t_r where row_number<10) t\n",
    ") AS a\n",
    "JOIN    us_road_network.roads_us AS b\n",
    "  ON    a.edge = b.id\n",
    "GROUP BY\n",
    "        a.trip_id\n",
    "ORDER BY\n",
    "        a.trip_id\n",
    "\"\"\""
   ]
  },
  {
   "cell_type": "markdown",
   "id": "beccf46b",
   "metadata": {},
   "source": [
    "## Linearly scale processinging to use the maximum number of CPUs available to db"
   ]
  },
  {
   "cell_type": "code",
   "execution_count": 5,
   "id": "ec423961",
   "metadata": {},
   "outputs": [
    {
     "name": "stdout",
     "output_type": "stream",
     "text": [
      "test\n",
      "1154\n"
     ]
    }
   ],
   "source": [
    "queries = [] \n",
    "\n",
    "max_rows = 23065+25\n",
    "start_row = 20\n",
    "\n",
    "list_of_starts = []\n",
    "for i in range(start_row, max_rows, 20):\n",
    "    list_of_starts.append([str(i), str(i+20)])\n",
    "    \n",
    "print(len(list_of_starts))\n",
    "list_of_starts[:3]\n",
    "\n",
    "\n",
    "for l in list_of_starts:\n",
    "    start = l[0]\n",
    "    end = l[1]\n",
    "    sql = f\"\"\"\n",
    "      insert into us_road_network.trip_routes \n",
    "    SELECT  a.trip_id,\n",
    "            SUM(a.cost) AS agg_cost,\n",
    "            ST_Union(b.geom) AS geom       -- ST_Collect(b.geom)\n",
    "    FROM    (\n",
    "        SELECT  trip_id, \n",
    "                (pgr_dijkstra(\n",
    "                    'SELECT id::int, source::bigint, target::bigint, travel_cost::float as cost FROM us_road_network.roads_us',\n",
    "                    origin,\n",
    "                    destination,\n",
    "                    false\n",
    "                )).*\n",
    "        FROM    (SELECT * FROM \n",
    "        (SELECT row_number() over(), * FROM us_road_network.routes_start_stop_points order by trip_id) t_r where row_number>={start} and row_number<{end}\n",
    "    ) t\n",
    "    ) AS a\n",
    "    JOIN    us_road_network.roads_us AS b\n",
    "      ON    a.edge = b.id\n",
    "    GROUP BY\n",
    "            a.trip_id\n",
    "    ORDER BY\n",
    "            a.trip_id\n",
    "    \"\"\"\n",
    "    queries.append(sql)"
   ]
  },
  {
   "cell_type": "code",
   "execution_count": 6,
   "id": "e841b804",
   "metadata": {},
   "outputs": [
    {
     "name": "stdout",
     "output_type": "stream",
     "text": [
      "CPU times: user 127 ms, sys: 350 ms, total: 477 ms\n",
      "Wall time: 430 ms\n"
     ]
    }
   ],
   "source": [
    "%%time\n",
    "import multiprocessing \n",
    "pool = multiprocessing.Pool(94)"
   ]
  },
  {
   "cell_type": "code",
   "execution_count": 7,
   "id": "3d42e577",
   "metadata": {},
   "outputs": [
    {
     "name": "stdout",
     "output_type": "stream",
     "text": [
      "CPU times: user 2.11 s, sys: 1.08 s, total: 3.18 s\n",
      "Wall time: 30min 35s\n"
     ]
    }
   ],
   "source": [
    "%%time\n",
    "for i in pool.imap_unordered(runQuery, queries): \n",
    "    continue"
   ]
  },
  {
   "cell_type": "code",
   "execution_count": null,
   "id": "0710a49b",
   "metadata": {},
   "outputs": [],
   "source": []
  },
  {
   "cell_type": "code",
   "execution_count": null,
   "id": "2646ef41",
   "metadata": {},
   "outputs": [],
   "source": []
  },
  {
   "cell_type": "code",
   "execution_count": null,
   "id": "5bd532c9",
   "metadata": {},
   "outputs": [],
   "source": []
  },
  {
   "cell_type": "code",
   "execution_count": null,
   "id": "44b18893",
   "metadata": {},
   "outputs": [],
   "source": []
  }
 ],
 "metadata": {
  "kernelspec": {
   "display_name": "Python 3",
   "language": "python",
   "name": "python3"
  },
  "language_info": {
   "codemirror_mode": {
    "name": "ipython",
    "version": 3
   },
   "file_extension": ".py",
   "mimetype": "text/x-python",
   "name": "python",
   "nbconvert_exporter": "python",
   "pygments_lexer": "ipython3",
   "version": "3.8.8"
  }
 },
 "nbformat": 4,
 "nbformat_minor": 5
}
